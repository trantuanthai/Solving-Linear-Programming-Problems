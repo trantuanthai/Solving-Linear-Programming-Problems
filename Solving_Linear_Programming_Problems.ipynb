{
  "nbformat": 4,
  "nbformat_minor": 0,
  "metadata": {
    "colab": {
      "provenance": [],
      "authorship_tag": "ABX9TyMc8AwxvGRsm1E5sGNNFirR",
      "include_colab_link": true
    },
    "kernelspec": {
      "name": "python3",
      "display_name": "Python 3"
    },
    "language_info": {
      "name": "python"
    }
  },
  "cells": [
    {
      "cell_type": "markdown",
      "metadata": {
        "id": "view-in-github",
        "colab_type": "text"
      },
      "source": [
        "<a href=\"https://colab.research.google.com/github/trantuanthai/Solving-Linear-Programming-Problems/blob/main/Solving_Linear_Programming_Problems.ipynb\" target=\"_parent\"><img src=\"https://colab.research.google.com/assets/colab-badge.svg\" alt=\"Open In Colab\"/></a>"
      ]
    },
    {
      "cell_type": "code",
      "source": [
        "# Cài đặt các thư viện cần thiết\n",
        "import numpy as np"
      ],
      "metadata": {
        "id": "xXM8LxNb6k9_"
      },
      "execution_count": null,
      "outputs": []
    },
    {
      "cell_type": "code",
      "source": [
        "# Nhập bài toán\n",
        "\n",
        "# Nhập số biến và số ràng buộc\n",
        "n = int(input(\"Nhập số biến: \"))\n",
        "m = int(input(\"Nhập số ràng buộc: \"))\n",
        "\n",
        "# Nhập hàm mục tiêu\n",
        "print(\"Nhập các hệ số của hàm mục tiêu:\")\n",
        "c = []\n",
        "for i in range(n):\n",
        "    c.append(float(input()))\n",
        "\n",
        "# Nhập các ràng buộc\n",
        "print(\"Nhập các ràng buộc:\")\n",
        "A = []\n",
        "b = []\n",
        "for i in range(m):\n",
        "    row = [float(x) for x in input().split()]\n",
        "    A.append(row[:-1])\n",
        "    b.append(row[-1])"
      ],
      "metadata": {
        "id": "FBbgEMOm4Giu",
        "colab": {
          "base_uri": "https://localhost:8080/"
        },
        "outputId": "a65a331e-6ea5-4bc0-fc50-40a2e39dfde9"
      },
      "execution_count": null,
      "outputs": [
        {
          "name": "stdout",
          "output_type": "stream",
          "text": [
            "Nhập số biến: 2\n",
            "Nhập số ràng buộc: 3\n",
            "Nhập các hệ số của hàm mục tiêu:\n",
            "4\n",
            "5\n",
            "Nhập các ràng buộc:\n",
            "2 2 9\n",
            "1 0 4\n",
            "0 1 3\n"
          ]
        }
      ]
    },
    {
      "cell_type": "code",
      "source": [
        "# Thêm biến phụ vào bất đẳng thức giả bởi biến âm\n",
        "for i in range(len(b)):\n",
        "    if b[i] < 0:\n",
        "        b[i] = -b[i]\n",
        "        A[i] = [-x for x in A[i]]\n",
        "        c.append(0)\n",
        "\n",
        "# Thêm slack variables vào ràng buộc\n",
        "for i in range(len(A)):\n",
        "    unit_vec = [0]*len(A)\n",
        "    unit_vec[i] = 1\n",
        "    A[i] += unit_vec"
      ],
      "metadata": {
        "id": "znC1hVe8sXfz"
      },
      "execution_count": null,
      "outputs": []
    },
    {
      "cell_type": "code",
      "source": [
        "# Tạo ma trận đơn hình\n",
        "basis = [(n+i) for i in range(m)]\n",
        "tableau = np.array([A[i]+[b[i]] for i in range(m)])\n",
        "tableau = np.concatenate((tableau, [c+[0]]))\n",
        "tableau = np.concatenate((tableau, [np.array(basis+[0])]))\n",
        "\n",
        "# In ra ma trận đơn hình ban đầu\n",
        "print(\"\\nMa trận đơn hình ban đầu là:\\n\", tableau)"
      ],
      "metadata": {
        "id": "FeDQK2G4XT7O",
        "colab": {
          "base_uri": "https://localhost:8080/",
          "height": 283
        },
        "outputId": "0b0361c8-f61c-4a23-c7a5-f0e5c51f4c48"
      },
      "execution_count": null,
      "outputs": [
        {
          "output_type": "error",
          "ename": "ValueError",
          "evalue": "ignored",
          "traceback": [
            "\u001b[0;31m---------------------------------------------------------------------------\u001b[0m",
            "\u001b[0;31mValueError\u001b[0m                                Traceback (most recent call last)",
            "\u001b[0;32m<ipython-input-8-c8f580f84c81>\u001b[0m in \u001b[0;36m<cell line: 4>\u001b[0;34m()\u001b[0m\n\u001b[1;32m      2\u001b[0m \u001b[0mbasis\u001b[0m \u001b[0;34m=\u001b[0m \u001b[0;34m[\u001b[0m\u001b[0;34m(\u001b[0m\u001b[0mn\u001b[0m\u001b[0;34m+\u001b[0m\u001b[0mi\u001b[0m\u001b[0;34m)\u001b[0m \u001b[0;32mfor\u001b[0m \u001b[0mi\u001b[0m \u001b[0;32min\u001b[0m \u001b[0mrange\u001b[0m\u001b[0;34m(\u001b[0m\u001b[0mm\u001b[0m\u001b[0;34m)\u001b[0m\u001b[0;34m]\u001b[0m\u001b[0;34m\u001b[0m\u001b[0;34m\u001b[0m\u001b[0m\n\u001b[1;32m      3\u001b[0m \u001b[0mtableau\u001b[0m \u001b[0;34m=\u001b[0m \u001b[0mnp\u001b[0m\u001b[0;34m.\u001b[0m\u001b[0marray\u001b[0m\u001b[0;34m(\u001b[0m\u001b[0;34m[\u001b[0m\u001b[0mA\u001b[0m\u001b[0;34m[\u001b[0m\u001b[0mi\u001b[0m\u001b[0;34m]\u001b[0m\u001b[0;34m+\u001b[0m\u001b[0;34m[\u001b[0m\u001b[0mb\u001b[0m\u001b[0;34m[\u001b[0m\u001b[0mi\u001b[0m\u001b[0;34m]\u001b[0m\u001b[0;34m]\u001b[0m \u001b[0;32mfor\u001b[0m \u001b[0mi\u001b[0m \u001b[0;32min\u001b[0m \u001b[0mrange\u001b[0m\u001b[0;34m(\u001b[0m\u001b[0mm\u001b[0m\u001b[0;34m)\u001b[0m\u001b[0;34m]\u001b[0m\u001b[0;34m)\u001b[0m\u001b[0;34m\u001b[0m\u001b[0;34m\u001b[0m\u001b[0m\n\u001b[0;32m----> 4\u001b[0;31m \u001b[0mtableau\u001b[0m \u001b[0;34m=\u001b[0m \u001b[0mnp\u001b[0m\u001b[0;34m.\u001b[0m\u001b[0mconcatenate\u001b[0m\u001b[0;34m(\u001b[0m\u001b[0;34m(\u001b[0m\u001b[0mtableau\u001b[0m\u001b[0;34m,\u001b[0m \u001b[0;34m[\u001b[0m\u001b[0mc\u001b[0m\u001b[0;34m+\u001b[0m\u001b[0;34m[\u001b[0m\u001b[0;36m0\u001b[0m\u001b[0;34m]\u001b[0m\u001b[0;34m]\u001b[0m\u001b[0;34m)\u001b[0m\u001b[0;34m)\u001b[0m\u001b[0;34m\u001b[0m\u001b[0;34m\u001b[0m\u001b[0m\n\u001b[0m\u001b[1;32m      5\u001b[0m \u001b[0mtableau\u001b[0m \u001b[0;34m=\u001b[0m \u001b[0mnp\u001b[0m\u001b[0;34m.\u001b[0m\u001b[0mconcatenate\u001b[0m\u001b[0;34m(\u001b[0m\u001b[0;34m(\u001b[0m\u001b[0mtableau\u001b[0m\u001b[0;34m,\u001b[0m \u001b[0;34m[\u001b[0m\u001b[0mnp\u001b[0m\u001b[0;34m.\u001b[0m\u001b[0marray\u001b[0m\u001b[0;34m(\u001b[0m\u001b[0mbasis\u001b[0m\u001b[0;34m+\u001b[0m\u001b[0;34m[\u001b[0m\u001b[0;36m0\u001b[0m\u001b[0;34m]\u001b[0m\u001b[0;34m)\u001b[0m\u001b[0;34m]\u001b[0m\u001b[0;34m)\u001b[0m\u001b[0;34m)\u001b[0m\u001b[0;34m\u001b[0m\u001b[0;34m\u001b[0m\u001b[0m\n\u001b[1;32m      6\u001b[0m \u001b[0;34m\u001b[0m\u001b[0m\n",
            "\u001b[0;32m/usr/local/lib/python3.9/dist-packages/numpy/core/overrides.py\u001b[0m in \u001b[0;36mconcatenate\u001b[0;34m(*args, **kwargs)\u001b[0m\n",
            "\u001b[0;31mValueError\u001b[0m: all the input array dimensions for the concatenation axis must match exactly, but along dimension 1, the array at index 0 has size 6 and the array at index 1 has size 3"
          ]
        }
      ]
    },
    {
      "cell_type": "code",
      "source": [
        "# Hàm lấy phần tử vào từng lần lặp\n",
        "def pivot_variable(tableau):\n",
        "    pivot_column = np.argmin(tableau[-2,:-1])\n",
        "    ratios = np.divide(tableau[:-2,-1], tableau[:-2,pivot_column])\n",
        "    pivot_row = np.argmin(ratios)\n",
        "    return (pivot_row, pivot_column)\n",
        "\n",
        "# Hàm thực hiện phép biến đổi đơn hình\n",
        "def pivot(tableau):\n",
        "    pivot_r, pivot_c = pivot_variable(tableau)\n",
        "    pivot_value = tableau[pivot_r][pivot_c]\n",
        "    reduced_tableau = np.zeros((m+1, n+m+1))\n",
        "    reduced_tableau[pivot_r] = tableau[pivot_r]/pivot_value\n",
        "    for i in range(m+1):\n",
        "        if i == pivot_r: \n",
        "            continue\n",
        "        reduced_tableau[i] = tableau[i] - tableau[i][pivot_c]*tableau[pivot_r]/pivot_value\n",
        "    reduced_basis = basis[:pivot_r] + basis[pivot_r+1:] + [pivot_c]\n",
        "    return reduced_tableau, reduced_basis\n",
        "\n",
        "# Hàm kiểm tra xem còn cột âm nào trong hàng đơn vị hay không\n",
        "def has_negative(tableau):\n",
        "    return min(tableau[-2,:-1])<0"
      ],
      "metadata": {
        "id": "76XbTcBGXin0"
      },
      "execution_count": null,
      "outputs": []
    },
    {
      "cell_type": "code",
      "source": [
        "# Thực hiện giải bài toán đơn hình\n",
        "while has_negative(tableau):\n",
        "    tableau, basis = pivot(tableau)\n",
        "    print(\"\\nBước tiếp theo là:\\n\", tableau)\n",
        "\n",
        "# Tính giá trị tối ưu và in ra kết quả\n",
        "optimal_solution = -tableau[-1][-1]\n",
        "print(\"\\nGiá trị tối ưu của hàm mục tiêu là:\", optimal_solution)"
      ],
      "metadata": {
        "id": "hRlzl9PKML50"
      },
      "execution_count": null,
      "outputs": []
    }
  ]
}