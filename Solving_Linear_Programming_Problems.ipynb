{
  "nbformat": 4,
  "nbformat_minor": 0,
  "metadata": {
    "colab": {
      "provenance": [],
      "authorship_tag": "ABX9TyMdgYCHqJQ0DeIu22xAjdKp",
      "include_colab_link": true
    },
    "kernelspec": {
      "name": "python3",
      "display_name": "Python 3"
    },
    "language_info": {
      "name": "python"
    }
  },
  "cells": [
    {
      "cell_type": "markdown",
      "metadata": {
        "id": "view-in-github",
        "colab_type": "text"
      },
      "source": [
        "<a href=\"https://colab.research.google.com/github/trantuanthai/Solving-Linear-Programming-Problems/blob/main/Solving_Linear_Programming_Problems.ipynb\" target=\"_parent\"><img src=\"https://colab.research.google.com/assets/colab-badge.svg\" alt=\"Open In Colab\"/></a>"
      ]
    },
    {
      "cell_type": "code",
      "source": [
        "# Cài đặt thư viện cho bài toán quy hoạch tuyến tính\n",
        "!pip install pulp\n",
        "\n",
        "from pulp import *"
      ],
      "metadata": {
        "id": "io68FRZRA_I0"
      },
      "execution_count": null,
      "outputs": []
    },
    {
      "cell_type": "code",
      "source": [
        "# Nhập yêu cầu bài toán\n",
        "objective = input(\"Tìm giá trị cao nhất (max) hay thấp nhất (min): \")\n",
        "if objective == \"min\":\n",
        "    prob = LpProblem(\"Linear Programming Problems\", LpMinimize)\n",
        "elif objective == \"max\":\n",
        "    prob = LpProblem(\"Linear Programming Problems\", LpMaximize)"
      ],
      "metadata": {
        "id": "n4MXZyKSjkkt"
      },
      "execution_count": null,
      "outputs": []
    },
    {
      "cell_type": "code",
      "source": [
        "# Nhập số lượng biến\n",
        "num_variables = int(input(\"Nhập số lượng biến: \"))"
      ],
      "metadata": {
        "id": "Hy8BlfiMjh-I"
      },
      "execution_count": null,
      "outputs": []
    },
    {
      "cell_type": "code",
      "source": [
        "# Nhập điều kiện của các biến\n",
        "variables = []\n",
        "for i in range(num_variables):\n",
        "    constraint = input(\"Điều kiện cho biến {}: \".format(i + 1))\n",
        "    if constraint == \">=\":\n",
        "        variables.append(LpVariable(\"x{}\".format(i + 1), 0))\n",
        "    elif constraint == \"<=\":\n",
        "        variables.append(LpVariable(\"x{}\".format(i + 1), lowBound = -1, upBound = None))\n",
        "    else:\n",
        "        variables.append(LpVariable(\"x{}\".format(i + 1), lowBound = None, upBound = None))"
      ],
      "metadata": {
        "id": "_PTbBaw0jg_4"
      },
      "execution_count": null,
      "outputs": []
    },
    {
      "cell_type": "code",
      "source": [
        "# Nhập hàm mục tiêu\n",
        "coefficients = []\n",
        "print(\"Nhập hệ số hàm mục tiêu\")\n",
        "for i in range(num_variables):\n",
        "    coefficient = float(input(\"Hệ số của biến {}: \".format(i + 1)))\n",
        "    coefficients.append(coefficient)\n",
        "\n",
        "objective_function = lpSum([coefficients[i] * variables[i] for i in range(num_variables)])\n",
        "prob += objective_function"
      ],
      "metadata": {
        "id": "lPEmogZcjeEq"
      },
      "execution_count": null,
      "outputs": []
    },
    {
      "cell_type": "code",
      "source": [
        "# Nhập ràng buộc và điều kiện về dấu\n",
        "num_constraints = int(input(\"Nhập số lượng ràng buộc: \"))\n",
        "for i in range(num_constraints):\n",
        "    constraint_coeffs = []\n",
        "    for j in range(num_variables):\n",
        "        constraint_coeff = float(input(\"Hệ số của biến {} trong ràng buộc {}: \".format(j + 1, i + 1)))\n",
        "        constraint_coeffs.append(constraint_coeff)\n",
        "\n",
        "    operator = input(\"Dấu của ràng buộc {}: \".format(i + 1))\n",
        "    value_constraint = float(input(\"Giá trị của ràng buộc {}: \".format(i + 1)))\n",
        "    print()\n",
        "\n",
        "    if operator == \">=\":\n",
        "        constraint = LpConstraint(e = LpAffineExpression([(variables[j], constraint_coeffs[j]) for j in range(num_variables)]), sense = LpConstraintGE, rhs = value_constraint)\n",
        "    elif operator == \"<=\":\n",
        "        constraint = LpConstraint(e = LpAffineExpression([(variables[j], constraint_coeffs[j]) for j in range(num_variables)]), sense = LpConstraintLE, rhs = value_constraint)\n",
        "    elif operator == \"==\":\n",
        "        constraint = LpConstraint(e = LpAffineExpression([(variables[j], constraint_coeffs[j]) for j in range(num_variables)]), sense = LpConstraintEQ, rhs = value_constraint)\n",
        "    else:\n",
        "        continue\n",
        "\n",
        "    prob.addConstraint(constraint)"
      ],
      "metadata": {
        "id": "h5Mw_NzjjbeW"
      },
      "execution_count": null,
      "outputs": []
    },
    {
      "cell_type": "code",
      "source": [
        "# Giải bài toán\n",
        "status = prob.solve()\n",
        "\n",
        "# In ra kết quả bài toán\n",
        "if status == LpStatusOptimal:\n",
        "    print(\"Nghiệm tối ưu của bài toán:\")\n",
        "    for variable in prob.variables():\n",
        "        print(\"{}: {}\".format(variable.name, variable.value()))\n",
        "    optimal_value = value(prob.objective)\n",
        "    print(\"Giá trị tối ưu: {}\".format(optimal_value))\n",
        "elif status == LpStatusInfeasible:\n",
        "    print(\"Bài toán vô nghiệm.\")\n",
        "elif status == LpStatusUnbounded:\n",
        "    print(\"Bài toán không giới nội.\")\n",
        "    if objective == 'min':\n",
        "      print(\"Giá trị tối ưu: - Inf\")\n",
        "    else :\n",
        "      print(\"Giá trị tối ưu: + Inf\")\n",
        "elif status == LpStatusUndefined:\n",
        "    print(\"Bài toán có vô số nghiệm.\")"
      ],
      "metadata": {
        "id": "NQ7c5AcUjY6b"
      },
      "execution_count": null,
      "outputs": []
    }
  ]
}