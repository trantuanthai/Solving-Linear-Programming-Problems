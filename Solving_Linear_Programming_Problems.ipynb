{
  "nbformat": 4,
  "nbformat_minor": 0,
  "metadata": {
    "colab": {
      "provenance": [],
      "authorship_tag": "ABX9TyPHLKT7tayXHFbrVAm7VrCk",
      "include_colab_link": true
    },
    "kernelspec": {
      "name": "python3",
      "display_name": "Python 3"
    },
    "language_info": {
      "name": "python"
    }
  },
  "cells": [
    {
      "cell_type": "markdown",
      "metadata": {
        "id": "view-in-github",
        "colab_type": "text"
      },
      "source": [
        "<a href=\"https://colab.research.google.com/github/trantuanthai/Solving-Linear-Programming-Problems/blob/main/Solving_Linear_Programming_Problems.ipynb\" target=\"_parent\"><img src=\"https://colab.research.google.com/assets/colab-badge.svg\" alt=\"Open In Colab\"/></a>"
      ]
    },
    {
      "cell_type": "code",
      "source": [
        "# Cài đặt thư viện cho bài toán quy hoạch tuyến tính\n",
        "!pip install pulp\n",
        "\n",
        "from pulp import *"
      ],
      "metadata": {
        "colab": {
          "base_uri": "https://localhost:8080/"
        },
        "id": "io68FRZRA_I0",
        "outputId": "2538a5bf-cba2-4fdb-c80f-372305aec7d0"
      },
      "execution_count": null,
      "outputs": [
        {
          "output_type": "stream",
          "name": "stdout",
          "text": [
            "Looking in indexes: https://pypi.org/simple, https://us-python.pkg.dev/colab-wheels/public/simple/\n",
            "Collecting pulp\n",
            "  Downloading PuLP-2.7.0-py3-none-any.whl (14.3 MB)\n",
            "\u001b[2K     \u001b[90m━━━━━━━━━━━━━━━━━━━━━━━━━━━━━━━━━━━━━━━━\u001b[0m \u001b[32m14.3/14.3 MB\u001b[0m \u001b[31m83.7 MB/s\u001b[0m eta \u001b[36m0:00:00\u001b[0m\n",
            "\u001b[?25hInstalling collected packages: pulp\n",
            "Successfully installed pulp-2.7.0\n"
          ]
        }
      ]
    },
    {
      "cell_type": "code",
      "source": [
        "# Nhập yêu cầu bài toán\n",
        "objective = input(\"Tìm giá trị cao nhất (max) hay thấp nhất (min): \")\n",
        "if objective == \"min\":\n",
        "    prob = LpProblem(\"simple LP problem\", LpMinimize)\n",
        "elif objective == \"max\":\n",
        "    prob = LpProblem(\"simple LP problem\", LpMaximize)"
      ],
      "metadata": {
        "id": "n4MXZyKSjkkt"
      },
      "execution_count": null,
      "outputs": []
    },
    {
      "cell_type": "code",
      "source": [
        "# Nhập số lượng biến\n",
        "num_variables = int(input(\"Nhập số lượng biến: \"))"
      ],
      "metadata": {
        "id": "Hy8BlfiMjh-I"
      },
      "execution_count": null,
      "outputs": []
    },
    {
      "cell_type": "code",
      "source": [
        "\n",
        "# Nhập điều kiện của các biến\n",
        "variables = []\n",
        "for i in range(num_variables):\n",
        "    constraint = input(\"Điều kiện cho biến {}: \".format(i + 1))\n",
        "    if constraint == \">=\":\n",
        "        variables.append(LpVariable(\"x{}\".format(i+1), 0))\n",
        "    elif constraint == \"<=\":\n",
        "        variables.append(LpVariable(\"x{}\".format(i+1), lowBound=-1, upBound=None))\n",
        "    else:\n",
        "        variables.append(LpVariable(\"x{}\".format(i + 1), lowBound=None, upBound=None))"
      ],
      "metadata": {
        "id": "_PTbBaw0jg_4"
      },
      "execution_count": null,
      "outputs": []
    },
    {
      "cell_type": "code",
      "source": [
        "# Nhập hàm mục tiêu\n",
        "coefficients = []\n",
        "print(\"Nhập hệ số hàm mục tiêu\")\n",
        "for i in range(num_variables):\n",
        "    coefficient = float(input(\"Hệ số của biến {}: \".format(i + 1)))\n",
        "    coefficients.append(coefficient)\n",
        "\n",
        "objective_function = lpSum([coefficients[i] * variables[i] for i in range(num_variables)])\n",
        "prob += objective_function"
      ],
      "metadata": {
        "id": "lPEmogZcjeEq"
      },
      "execution_count": null,
      "outputs": []
    },
    {
      "cell_type": "code",
      "source": [
        "# Nhập ràng buộc và điều kiện về dấu\n",
        "num_constraints = int(input(\"Nhập số lượng ràng buộc: \"))\n",
        "for i in range(num_constraints):\n",
        "    constraint_coeffs = []\n",
        "    for j in range(num_variables):\n",
        "        constraint_coeff = float(input(\"Hệ số của biến {} trong ràng buộc {}: \".format(j+1, i+1)))\n",
        "        constraint_coeffs.append(constraint_coeff)\n",
        "\n",
        "    operator = input(\"Dấu của ràng buộc {}: \".format(i+1))\n",
        "    value_constraint = float(input(\"Giá trị của ràng buộc {}: \".format(i+1)))\n",
        "\n",
        "    if operator == \">=\":\n",
        "        constraint = LpConstraint(\n",
        "            e=LpAffineExpression([(variables[j], constraint_coeffs[j]) for j in range(num_variables)]),\n",
        "            sense=LpConstraintGE,\n",
        "            rhs=value_constraint,\n",
        "        )\n",
        "    elif operator == \"<=\":\n",
        "        constraint = LpConstraint(\n",
        "            e=LpAffineExpression([(variables[j], constraint_coeffs[j]) for j in range(num_variables)]),\n",
        "            sense=LpConstraintLE,\n",
        "            rhs=value_constraint,\n",
        "        )\n",
        "    elif operator == \"==\":\n",
        "        constraint = LpConstraint(\n",
        "            e=LpAffineExpression([(variables[j], constraint_coeffs[j]) for j in range(num_variables)]),\n",
        "            sense=LpConstraintEQ,\n",
        "            rhs=value_constraint,\n",
        "        )\n",
        "    else:\n",
        "        continue\n",
        "    prob.addConstraint(constraint)"
      ],
      "metadata": {
        "id": "h5Mw_NzjjbeW"
      },
      "execution_count": null,
      "outputs": []
    },
    {
      "cell_type": "code",
      "source": [
        "# Giải bài toán và in ra kết quả\n",
        "status = prob.solve()\n",
        "if status == LpStatusOptimal:\n",
        "    print(\"Nghiệm tối ưu của bài toán:\")\n",
        "    for variable in prob.variables():\n",
        "        print(\"{}: {}\".format(variable.name, variable.value()))\n",
        "    optimal_value = value(prob.objective)\n",
        "    print(\"Giá trị tối ưu: {}\".format(optimal_value))\n",
        "elif status == LpStatusInfeasible:\n",
        "    print(\"Bài toán vô nghiệm.\")\n",
        "elif status == LpStatusUnbounded:\n",
        "    print(\"Bài toán không giới nội.\")\n",
        "    if objective=='max':\n",
        "      print(\"Giá trị tối ưu: + Inf\")\n",
        "    else :\n",
        "      print(\"Giá trị tối ưu: - Inf\")\n",
        "elif status == LpStatusUndefined:\n",
        "    print(\"Bài toán có vô số nghiệm.\")"
      ],
      "metadata": {
        "id": "NQ7c5AcUjY6b"
      },
      "execution_count": null,
      "outputs": []
    }
  ]
}