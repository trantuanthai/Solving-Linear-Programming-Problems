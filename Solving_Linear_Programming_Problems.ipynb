{
  "nbformat": 4,
  "nbformat_minor": 0,
  "metadata": {
    "colab": {
      "provenance": [],
      "authorship_tag": "ABX9TyMc8AwxvGRsm1E5sGNNFirR",
      "include_colab_link": true
    },
    "kernelspec": {
      "name": "python3",
      "display_name": "Python 3"
    },
    "language_info": {
      "name": "python"
    }
  },
  "cells": [
    {
      "cell_type": "markdown",
      "metadata": {
        "id": "view-in-github",
        "colab_type": "text"
      },
      "source": [
        "<a href=\"https://colab.research.google.com/github/trantuanthai/Solving-Linear-Programming-Problems/blob/main/Solving_Linear_Programming_Problems.ipynb\" target=\"_parent\"><img src=\"https://colab.research.google.com/assets/colab-badge.svg\" alt=\"Open In Colab\"/></a>"
      ]
    },
    {
      "cell_type": "code",
      "source": [
        "# Cài đặt các thư viện cần thiết\n",
        "import numpy as np"
      ],
      "metadata": {
        "id": "xXM8LxNb6k9_"
      },
      "execution_count": null,
      "outputs": []
    },
    {
      "cell_type": "code",
      "source": [
        "# Nhập bài toán\n",
        "\n",
        "# Nhập số biến và số ràng buộc\n",
        "n = int(input(\"Nhập số biến: \"))\n",
        "m = int(input(\"Nhập số ràng buộc: \"))\n",
        "\n",
        "# Nhập hàm mục tiêu\n",
        "print(\"Nhập các hệ số của hàm mục tiêu:\")\n",
        "c = []\n",
        "for i in range(n):\n",
        "    c.append(float(input()))\n",
        "\n",
        "# Nhập các ràng buộc\n",
        "print(\"Nhập các ràng buộc:\")\n",
        "A = []\n",
        "b = []\n",
        "for i in range(m):\n",
        "    row = [float(x) for x in input().split()]\n",
        "    A.append(row[:-1])\n",
        "    b.append(row[-1])"
      ],
      "metadata": {
        "id": "FBbgEMOm4Giu"
      },
      "execution_count": null,
      "outputs": []
    },
    {
      "cell_type": "code",
      "source": [
        "# Thêm biến phụ vào bất đẳng thức giả bởi biến âm\n",
        "for i in range(len(b)):\n",
        "    if b[i] < 0:\n",
        "        b[i] = -b[i]\n",
        "        A[i] = [-x for x in A[i]]\n",
        "        c.append(0)\n",
        "\n",
        "# Thêm slack variables vào ràng buộc\n",
        "for i in range(len(A)):\n",
        "    unit_vec = [0]*len(A)\n",
        "    unit_vec[i] = 1\n",
        "    A[i] += unit_vec"
      ],
      "metadata": {
        "id": "znC1hVe8sXfz"
      },
      "execution_count": null,
      "outputs": []
    },
    {
      "cell_type": "code",
      "source": [
        "# Tạo ma trận đơn hình\n",
        "basis = [(n+i) for i in range(m)]\n",
        "tableau = np.array([A[i]+[b[i]] for i in range(m)])\n",
        "tableau = np.concatenate((tableau, [c+[0]]))\n",
        "tableau = np.concatenate((tableau, [np.array(basis+[0])]))\n",
        "\n",
        "# In ra ma trận đơn hình ban đầu\n",
        "print(\"\\nMa trận đơn hình ban đầu là:\\n\", tableau)"
      ],
      "metadata": {
        "id": "FeDQK2G4XT7O"
      },
      "execution_count": null,
      "outputs": []
    },
    {
      "cell_type": "code",
      "source": [
        "# Hàm lấy phần tử vào từng lần lặp\n",
        "def pivot_variable(tableau):\n",
        "    pivot_column = np.argmin(tableau[-2,:-1])\n",
        "    ratios = np.divide(tableau[:-2,-1], tableau[:-2,pivot_column])\n",
        "    pivot_row = np.argmin(ratios)\n",
        "    return (pivot_row, pivot_column)\n",
        "\n",
        "# Hàm thực hiện phép biến đổi đơn hình\n",
        "def pivot(tableau):\n",
        "    pivot_r, pivot_c = pivot_variable(tableau)\n",
        "    pivot_value = tableau[pivot_r][pivot_c]\n",
        "    reduced_tableau = np.zeros((m+1, n+m+1))\n",
        "    reduced_tableau[pivot_r] = tableau[pivot_r]/pivot_value\n",
        "    for i in range(m+1):\n",
        "        if i == pivot_r: \n",
        "            continue\n",
        "        reduced_tableau[i] = tableau[i] - tableau[i][pivot_c]*tableau[pivot_r]/pivot_value\n",
        "    reduced_basis = basis[:pivot_r] + basis[pivot_r+1:] + [pivot_c]\n",
        "    return reduced_tableau, reduced_basis\n",
        "\n",
        "# Hàm kiểm tra xem còn cột âm nào trong hàng đơn vị hay không\n",
        "def has_negative(tableau):\n",
        "    return min(tableau[-2,:-1])<0"
      ],
      "metadata": {
        "id": "76XbTcBGXin0"
      },
      "execution_count": null,
      "outputs": []
    },
    {
      "cell_type": "code",
      "source": [
        "# Thực hiện giải bài toán đơn hình\n",
        "while has_negative(tableau):\n",
        "    tableau, basis = pivot(tableau)\n",
        "    print(\"\\nBước tiếp theo là:\\n\", tableau)\n",
        "\n",
        "# Tính giá trị tối ưu và in ra kết quả\n",
        "optimal_solution = -tableau[-1][-1]\n",
        "print(\"\\nGiá trị tối ưu của hàm mục tiêu là:\", optimal_solution)"
      ],
      "metadata": {
        "id": "hRlzl9PKML50"
      },
      "execution_count": null,
      "outputs": []
    }
  ]
}