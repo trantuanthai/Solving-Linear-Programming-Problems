{
  "nbformat": 4,
  "nbformat_minor": 0,
  "metadata": {
    "colab": {
      "provenance": [],
      "authorship_tag": "ABX9TyMGvlLJZ7MQr0VNOIYmK2C7",
      "include_colab_link": true
    },
    "kernelspec": {
      "name": "python3",
      "display_name": "Python 3"
    },
    "language_info": {
      "name": "python"
    }
  },
  "cells": [
    {
      "cell_type": "markdown",
      "metadata": {
        "id": "view-in-github",
        "colab_type": "text"
      },
      "source": [
        "<a href=\"https://colab.research.google.com/github/trantuanthai/Solving-Linear-Programming-Problems/blob/main/Solving_Linear_Programming_Problems.ipynb\" target=\"_parent\"><img src=\"https://colab.research.google.com/assets/colab-badge.svg\" alt=\"Open In Colab\"/></a>"
      ]
    },
    {
      "cell_type": "markdown",
      "source": [
        "**HI CẢ NHÀ**\n",
        "\n",
        "TEST 1"
      ],
      "metadata": {
        "id": "fyuhnCMH5Tc8"
      }
    },
    {
      "cell_type": "code",
      "source": [
        "# Cài đặt các thư viện cần thiết\n",
        "import numpy as np"
      ],
      "metadata": {
        "id": "xXM8LxNb6k9_"
      },
      "execution_count": null,
      "outputs": []
    },
    {
      "cell_type": "code",
      "source": [
        "# Nhập bài toán\n",
        "\n",
        "# Nhập số biến và số ràng buộc\n",
        "n = int(input(\"Nhập số biến: \"))\n",
        "m = int(input(\"Nhập số ràng buộc: \"))\n",
        "\n",
        "# Nhập hàm mục tiêu\n",
        "print(\"Nhập các hệ số của hàm mục tiêu:\")\n",
        "c = []\n",
        "for i in range(n):\n",
        "    c.append(float(input()))\n",
        "\n",
        "# Nhập ràng buộc\n",
        "print(\"Nhập các ràng buộc:\")\n",
        "A = []\n",
        "b = []\n",
        "for i in range(m):\n",
        "    row = [float(x) for x in input().split()]\n",
        "    A.append(row[:-1])\n",
        "    b.append(row[-1])"
      ],
      "metadata": {
        "id": "FBbgEMOm4Giu"
      },
      "execution_count": null,
      "outputs": []
    }
  ]
}