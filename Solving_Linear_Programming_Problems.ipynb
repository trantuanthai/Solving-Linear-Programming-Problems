{
  "nbformat": 4,
  "nbformat_minor": 0,
  "metadata": {
    "colab": {
      "provenance": [],
      "authorship_tag": "ABX9TyOPfFw1zk7YuK8N1B9jx4kI",
      "include_colab_link": true
    },
    "kernelspec": {
      "name": "python3",
      "display_name": "Python 3"
    },
    "language_info": {
      "name": "python"
    }
  },
  "cells": [
    {
      "cell_type": "markdown",
      "metadata": {
        "id": "view-in-github",
        "colab_type": "text"
      },
      "source": [
        "<a href=\"https://colab.research.google.com/github/trantuanthai/Solving-Linear-Programming-Problems/blob/main/Solving_Linear_Programming_Problems.ipynb\" target=\"_parent\"><img src=\"https://colab.research.google.com/assets/colab-badge.svg\" alt=\"Open In Colab\"/></a>"
      ]
    },
    {
      "cell_type": "code",
      "source": [
        "# Cài đặt thư viện cho bài toán quy hoạch tuyến tính\n",
        "!pip install pulp\n",
        "\n",
        "from pulp import *"
      ],
      "metadata": {
        "colab": {
          "base_uri": "https://localhost:8080/"
        },
        "id": "io68FRZRA_I0",
        "outputId": "b501cbfd-3547-43d4-ae4a-89cbb3d2d770"
      },
      "execution_count": null,
      "outputs": [
        {
          "output_type": "stream",
          "name": "stdout",
          "text": [
            "Looking in indexes: https://pypi.org/simple, https://us-python.pkg.dev/colab-wheels/public/simple/\n",
            "Requirement already satisfied: pulp in /usr/local/lib/python3.10/dist-packages (2.7.0)\n"
          ]
        }
      ]
    },
    {
      "cell_type": "code",
      "source": [
        "# Nhập yêu cầu bài toán\n",
        "objective = input(\"Tìm giá trị cao nhất (max) hay thấp nhất (min): \")\n",
        "if objective == \"min\":\n",
        "    prob = LpProblem(\"Simple LP problem\", LpMinimize)\n",
        "elif objective == \"max\":\n",
        "    prob = LpProblem(\"Simple LP problem\", LpMaximize)"
      ],
      "metadata": {
        "colab": {
          "base_uri": "https://localhost:8080/"
        },
        "id": "n4MXZyKSjkkt",
        "outputId": "0db1be3d-cb5b-4a14-9cf7-56332caf7c51"
      },
      "execution_count": null,
      "outputs": [
        {
          "name": "stdout",
          "output_type": "stream",
          "text": [
            "Tìm giá trị cao nhất (max) hay thấp nhất (min): min\n"
          ]
        },
        {
          "output_type": "stream",
          "name": "stderr",
          "text": [
            "/usr/local/lib/python3.10/dist-packages/pulp/pulp.py:1352: UserWarning: Spaces are not permitted in the name. Converted to '_'\n",
            "  warnings.warn(\"Spaces are not permitted in the name. Converted to '_'\")\n"
          ]
        }
      ]
    },
    {
      "cell_type": "code",
      "source": [
        "# Nhập số lượng biến\n",
        "num_variables = int(input(\"Nhập số lượng biến: \"))"
      ],
      "metadata": {
        "colab": {
          "base_uri": "https://localhost:8080/"
        },
        "id": "Hy8BlfiMjh-I",
        "outputId": "5afd685d-9ab2-42c9-c3c1-156f02a15e0b"
      },
      "execution_count": null,
      "outputs": [
        {
          "name": "stdout",
          "output_type": "stream",
          "text": [
            "Nhập số lượng biến: 2\n"
          ]
        }
      ]
    },
    {
      "cell_type": "code",
      "source": [
        "# Nhập điều kiện của các biến\n",
        "variables = []\n",
        "for i in range(num_variables):\n",
        "    constraint = input(\"Điều kiện cho biến {}: \".format(i + 1))\n",
        "    if constraint == \">=\":\n",
        "        variables.append(LpVariable(\"x{}\".format(i + 1), 0))\n",
        "    elif constraint == \"<=\":\n",
        "        variables.append(LpVariable(\"x{}\".format(i + 1), lowBound = -1, upBound = None))\n",
        "    else:\n",
        "        variables.append(LpVariable(\"x{}\".format(i + 1), lowBound = None, upBound = None))"
      ],
      "metadata": {
        "colab": {
          "base_uri": "https://localhost:8080/"
        },
        "id": "_PTbBaw0jg_4",
        "outputId": "971bd222-06ad-4b08-839c-9e2aa054957c"
      },
      "execution_count": null,
      "outputs": [
        {
          "name": "stdout",
          "output_type": "stream",
          "text": [
            "Điều kiện cho biến 1: >=\n",
            "Điều kiện cho biến 2: >=\n"
          ]
        }
      ]
    },
    {
      "cell_type": "code",
      "source": [
        "# Nhập hàm mục tiêu\n",
        "coefficients = []\n",
        "print(\"Nhập hệ số hàm mục tiêu\")\n",
        "for i in range(num_variables):\n",
        "    coefficient = float(input(\"Hệ số của biến {}: \".format(i + 1)))\n",
        "    coefficients.append(coefficient)\n",
        "\n",
        "objective_function = lpSum([coefficients[i] * variables[i] for i in range(num_variables)])\n",
        "prob += objective_function"
      ],
      "metadata": {
        "colab": {
          "base_uri": "https://localhost:8080/"
        },
        "id": "lPEmogZcjeEq",
        "outputId": "291d5c4f-b8ae-4bc7-afef-d57f0c6133a2"
      },
      "execution_count": null,
      "outputs": [
        {
          "name": "stdout",
          "output_type": "stream",
          "text": [
            "Nhập hệ số hàm mục tiêu\n",
            "Hệ số của biến 1: 3\n",
            "Hệ số của biến 2: 2\n"
          ]
        }
      ]
    },
    {
      "cell_type": "code",
      "source": [
        "# Nhập ràng buộc và điều kiện về dấu\n",
        "num_constraints = int(input(\"Nhập số lượng ràng buộc: \"))\n",
        "for i in range(num_constraints):\n",
        "    constraint_coeffs = []\n",
        "    for j in range(num_variables):\n",
        "        constraint_coeff = float(input(\"Hệ số của biến {} trong ràng buộc {}: \".format(j + 1, i + 1)))\n",
        "        constraint_coeffs.append(constraint_coeff)\n",
        "\n",
        "    operator = input(\"Dấu của ràng buộc {}: \".format(i + 1))\n",
        "    value_constraint = float(input(\"Giá trị của ràng buộc {}: \".format(i + 1)))\n",
        "    print()\n",
        "\n",
        "    if operator == \">=\":\n",
        "        constraint = LpConstraint(e = LpAffineExpression([(variables[j], constraint_coeffs[j]) for j in range(num_variables)]), sense = LpConstraintGE, rhs = value_constraint)\n",
        "    elif operator == \"<=\":\n",
        "        constraint = LpConstraint(e = LpAffineExpression([(variables[j], constraint_coeffs[j]) for j in range(num_variables)]), sense = LpConstraintLE, rhs = value_constraint)\n",
        "    elif operator == \"==\":\n",
        "        constraint = LpConstraint(e = LpAffineExpression([(variables[j], constraint_coeffs[j]) for j in range(num_variables)]), sense = LpConstraintEQ, rhs = value_constraint)\n",
        "    else:\n",
        "        continue\n",
        "\n",
        "    prob.addConstraint(constraint)"
      ],
      "metadata": {
        "colab": {
          "base_uri": "https://localhost:8080/",
          "height": 596
        },
        "id": "h5Mw_NzjjbeW",
        "outputId": "72436f55-89cb-446f-ceef-103340e1faf1"
      },
      "execution_count": null,
      "outputs": [
        {
          "output_type": "stream",
          "name": "stdout",
          "text": [
            "Nhập số lượng ràng buộc: 2\n",
            "Hệ số của biến 1 trong ràng buộc 1: 2\n",
            "Hệ số của biến 2 trong ràng buộc 1: -1\n",
            "Dấu của ràng buộc 1: >=\n",
            "Giá trị của ràng buộc 1: 1\n",
            "\n"
          ]
        },
        {
          "output_type": "error",
          "ename": "KeyboardInterrupt",
          "evalue": "ignored",
          "traceback": [
            "\u001b[0;31m---------------------------------------------------------------------------\u001b[0m",
            "\u001b[0;31mKeyboardInterrupt\u001b[0m                         Traceback (most recent call last)",
            "\u001b[0;32m<ipython-input-21-c05553ceb122>\u001b[0m in \u001b[0;36m<cell line: 3>\u001b[0;34m()\u001b[0m\n\u001b[1;32m      4\u001b[0m     \u001b[0mconstraint_coeffs\u001b[0m \u001b[0;34m=\u001b[0m \u001b[0;34m[\u001b[0m\u001b[0;34m]\u001b[0m\u001b[0;34m\u001b[0m\u001b[0;34m\u001b[0m\u001b[0m\n\u001b[1;32m      5\u001b[0m     \u001b[0;32mfor\u001b[0m \u001b[0mj\u001b[0m \u001b[0;32min\u001b[0m \u001b[0mrange\u001b[0m\u001b[0;34m(\u001b[0m\u001b[0mnum_variables\u001b[0m\u001b[0;34m)\u001b[0m\u001b[0;34m:\u001b[0m\u001b[0;34m\u001b[0m\u001b[0;34m\u001b[0m\u001b[0m\n\u001b[0;32m----> 6\u001b[0;31m         \u001b[0mconstraint_coeff\u001b[0m \u001b[0;34m=\u001b[0m \u001b[0mfloat\u001b[0m\u001b[0;34m(\u001b[0m\u001b[0minput\u001b[0m\u001b[0;34m(\u001b[0m\u001b[0;34m\"Hệ số của biến {} trong ràng buộc {}: \"\u001b[0m\u001b[0;34m.\u001b[0m\u001b[0mformat\u001b[0m\u001b[0;34m(\u001b[0m\u001b[0mj\u001b[0m \u001b[0;34m+\u001b[0m \u001b[0;36m1\u001b[0m\u001b[0;34m,\u001b[0m \u001b[0mi\u001b[0m \u001b[0;34m+\u001b[0m \u001b[0;36m1\u001b[0m\u001b[0;34m)\u001b[0m\u001b[0;34m)\u001b[0m\u001b[0;34m)\u001b[0m\u001b[0;34m\u001b[0m\u001b[0;34m\u001b[0m\u001b[0m\n\u001b[0m\u001b[1;32m      7\u001b[0m         \u001b[0mconstraint_coeffs\u001b[0m\u001b[0;34m.\u001b[0m\u001b[0mappend\u001b[0m\u001b[0;34m(\u001b[0m\u001b[0mconstraint_coeff\u001b[0m\u001b[0;34m)\u001b[0m\u001b[0;34m\u001b[0m\u001b[0;34m\u001b[0m\u001b[0m\n\u001b[1;32m      8\u001b[0m \u001b[0;34m\u001b[0m\u001b[0m\n",
            "\u001b[0;32m/usr/local/lib/python3.10/dist-packages/ipykernel/kernelbase.py\u001b[0m in \u001b[0;36mraw_input\u001b[0;34m(self, prompt)\u001b[0m\n\u001b[1;32m    849\u001b[0m                 \u001b[0;34m\"raw_input was called, but this frontend does not support input requests.\"\u001b[0m\u001b[0;34m\u001b[0m\u001b[0;34m\u001b[0m\u001b[0m\n\u001b[1;32m    850\u001b[0m             )\n\u001b[0;32m--> 851\u001b[0;31m         return self._input_request(str(prompt),\n\u001b[0m\u001b[1;32m    852\u001b[0m             \u001b[0mself\u001b[0m\u001b[0;34m.\u001b[0m\u001b[0m_parent_ident\u001b[0m\u001b[0;34m,\u001b[0m\u001b[0;34m\u001b[0m\u001b[0;34m\u001b[0m\u001b[0m\n\u001b[1;32m    853\u001b[0m             \u001b[0mself\u001b[0m\u001b[0;34m.\u001b[0m\u001b[0m_parent_header\u001b[0m\u001b[0;34m,\u001b[0m\u001b[0;34m\u001b[0m\u001b[0;34m\u001b[0m\u001b[0m\n",
            "\u001b[0;32m/usr/local/lib/python3.10/dist-packages/ipykernel/kernelbase.py\u001b[0m in \u001b[0;36m_input_request\u001b[0;34m(self, prompt, ident, parent, password)\u001b[0m\n\u001b[1;32m    893\u001b[0m             \u001b[0;32mexcept\u001b[0m \u001b[0mKeyboardInterrupt\u001b[0m\u001b[0;34m:\u001b[0m\u001b[0;34m\u001b[0m\u001b[0;34m\u001b[0m\u001b[0m\n\u001b[1;32m    894\u001b[0m                 \u001b[0;31m# re-raise KeyboardInterrupt, to truncate traceback\u001b[0m\u001b[0;34m\u001b[0m\u001b[0;34m\u001b[0m\u001b[0m\n\u001b[0;32m--> 895\u001b[0;31m                 \u001b[0;32mraise\u001b[0m \u001b[0mKeyboardInterrupt\u001b[0m\u001b[0;34m(\u001b[0m\u001b[0;34m\"Interrupted by user\"\u001b[0m\u001b[0;34m)\u001b[0m \u001b[0;32mfrom\u001b[0m \u001b[0;32mNone\u001b[0m\u001b[0;34m\u001b[0m\u001b[0;34m\u001b[0m\u001b[0m\n\u001b[0m\u001b[1;32m    896\u001b[0m             \u001b[0;32mexcept\u001b[0m \u001b[0mException\u001b[0m \u001b[0;32mas\u001b[0m \u001b[0me\u001b[0m\u001b[0;34m:\u001b[0m\u001b[0;34m\u001b[0m\u001b[0;34m\u001b[0m\u001b[0m\n\u001b[1;32m    897\u001b[0m                 \u001b[0mself\u001b[0m\u001b[0;34m.\u001b[0m\u001b[0mlog\u001b[0m\u001b[0;34m.\u001b[0m\u001b[0mwarning\u001b[0m\u001b[0;34m(\u001b[0m\u001b[0;34m\"Invalid Message:\"\u001b[0m\u001b[0;34m,\u001b[0m \u001b[0mexc_info\u001b[0m\u001b[0;34m=\u001b[0m\u001b[0;32mTrue\u001b[0m\u001b[0;34m)\u001b[0m\u001b[0;34m\u001b[0m\u001b[0;34m\u001b[0m\u001b[0m\n",
            "\u001b[0;31mKeyboardInterrupt\u001b[0m: Interrupted by user"
          ]
        }
      ]
    },
    {
      "cell_type": "code",
      "source": [
        "# Giải bài toán\n",
        "status = prob.solve()\n",
        "\n",
        "# In ra kết quả bài toán\n",
        "if status == LpStatusOptimal:\n",
        "    print(\"Nghiệm tối ưu của bài toán:\")\n",
        "    for variable in prob.variables():\n",
        "        print(\"{}: {}\".format(variable.name, variable.value()))\n",
        "    optimal_value = value(prob.objective)\n",
        "    print(\"Giá trị tối ưu: {}\".format(optimal_value))\n",
        "elif status == LpStatusInfeasible:\n",
        "    print(\"Bài toán vô nghiệm.\")\n",
        "elif status == LpStatusUnbounded:\n",
        "    print(\"Bài toán không giới nội.\")\n",
        "    if objective == 'min':\n",
        "      print(\"Giá trị tối ưu: - Inf\")\n",
        "    else :\n",
        "      print(\"Giá trị tối ưu: + Inf\")\n",
        "elif status == LpStatusUndefined:\n",
        "    print(\"Bài toán có vô số nghiệm.\")"
      ],
      "metadata": {
        "id": "NQ7c5AcUjY6b"
      },
      "execution_count": null,
      "outputs": []
    }
  ]
}